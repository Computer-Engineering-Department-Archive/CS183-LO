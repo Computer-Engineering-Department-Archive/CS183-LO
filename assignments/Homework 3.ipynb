{
 "cells": [
  {
   "cell_type": "code",
   "execution_count": 2,
   "metadata": {},
   "outputs": [
    {
     "name": "stdout",
     "output_type": "stream",
     "text": [
      "GLPSOL--GLPK LP/MIP Solver 5.0\n",
      "Parameter(s) specified in the command line:\n",
      " --write C:\\Users\\7\\AppData\\Local\\Temp\\tmpu5bxw9cl.glpk.raw --wglp C:\\Users\\7\\AppData\\Local\\Temp\\tmplx439qjk.glpk.glp\n",
      " --cpxlp C:\\Users\\7\\AppData\\Local\\Temp\\tmppmwir38c.pyomo.lp\n",
      "Reading problem data from 'C:\\Users\\7\\AppData\\Local\\Temp\\tmppmwir38c.pyomo.lp'...\n",
      "3 rows, 3 columns, 5 non-zeros\n",
      "26 lines were read\n",
      "Writing problem data to 'C:\\Users\\7\\AppData\\Local\\Temp\\tmplx439qjk.glpk.glp'...\n",
      "20 lines were written\n",
      "GLPK Simplex Optimizer 5.0\n",
      "3 rows, 3 columns, 5 non-zeros\n",
      "Preprocessing...\n",
      "2 rows, 2 columns, 4 non-zeros\n",
      "Scaling...\n",
      " A: min|aij| =  1.000e+00  max|aij| =  4.000e+00  ratio =  4.000e+00\n",
      "Problem data seem to be well scaled\n",
      "Constructing initial basis...\n",
      "Size of triangular part is 2\n",
      "*     0: obj =  -0.000000000e+00 inf =   0.000e+00 (2)\n",
      "*     1: obj =   4.000000000e+01 inf =   0.000e+00 (1)\n",
      "LP HAS UNBOUNDED PRIMAL SOLUTION\n",
      "glp_simplex: unable to recover undefined or non-optimal solution\n",
      "If you need actual output for non-optimal solution, use --nopresol\n",
      "Time used:   0.0 secs\n",
      "Memory used: 0.0 Mb (40412 bytes)\n",
      "Writing basic solution to 'C:\\Users\\7\\AppData\\Local\\Temp\\tmpu5bxw9cl.glpk.raw'...\n",
      "15 lines were written\n",
      "Model unknown\n",
      "\n",
      "  Variables:\n",
      "    x1 : Size=1, Index=None\n",
      "        Key  : Lower : Value : Upper : Fixed : Stale : Domain\n",
      "        None :     0 :  None :  None : False :  True : NonNegativeReals\n",
      "    x2 : Size=1, Index=None\n",
      "        Key  : Lower : Value : Upper : Fixed : Stale : Domain\n",
      "        None :  None :  None :  None : False :  True :  Reals\n",
      "\n",
      "  Objectives:\n",
      "    obj : Size=1, Index=None, Active=True\n",
      "ERROR: evaluating object as numeric value: x1\n",
      "        (object: <class 'pyomo.core.base.var.ScalarVar'>)\n",
      "    No value for uninitialized NumericValue object x1\n",
      "ERROR: evaluating object as numeric value: obj\n",
      "        (object: <class 'pyomo.core.base.objective.ScalarObjective'>)\n",
      "    No value for uninitialized NumericValue object x1\n",
      "        Key : Active : Value\n",
      "        None :   None :  None\n",
      "\n",
      "  Constraints:\n",
      "    const1 : Size=1\n",
      "        Key  : Lower : Body : Upper\n",
      "        None :  None : None :   8.0\n",
      "    const2 : Size=1\n",
      "        Key  : Lower : Body : Upper\n",
      "        None :  None : None :   4.0\n"
     ]
    }
   ],
   "source": [
    "import pyomo.environ as pyo\n",
    "model=pyo.ConcreteModel()\n",
    "model.x1=pyo.Var(domain=pyo.NonNegativeReals) \n",
    "model.x2=pyo.Var(domain=pyo.Reals)\n",
    "model.obj=pyo.Objective(expr=5*model.x1+4*model.x2, sense=pyo.maximize) \n",
    "model.const1=pyo.Constraint(expr=model.x1+4*model.x2<=8)\n",
    "model.const2=pyo.Constraint(expr=-2*model.x1+model.x2<=4)\n",
    "solvername = 'glpk' \n",
    "opt = pyo.SolverFactory(solvername)\n",
    "result=opt.solve(model, 'glpk',tee=True); \n",
    "model.display()\n",
    "\n",
    "# if you print values for x1 and x2 you will get errors.\n",
    "#print(pyo.value(model.x1), pyo.value(model.x2)) \n",
    "#print(pyo.value(model.obj))"
   ]
  },
  {
   "cell_type": "code",
   "execution_count": null,
   "metadata": {},
   "outputs": [],
   "source": []
  }
 ],
 "metadata": {
  "kernelspec": {
   "display_name": "Python 3",
   "language": "python",
   "name": "python3"
  },
  "language_info": {
   "codemirror_mode": {
    "name": "ipython",
    "version": 3
   },
   "file_extension": ".py",
   "mimetype": "text/x-python",
   "name": "python",
   "nbconvert_exporter": "python",
   "pygments_lexer": "ipython3",
   "version": "3.7.4"
  }
 },
 "nbformat": 4,
 "nbformat_minor": 2
}
